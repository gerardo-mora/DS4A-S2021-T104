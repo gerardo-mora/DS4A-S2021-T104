{
 "metadata": {
  "language_info": {
   "codemirror_mode": {
    "name": "ipython",
    "version": 3
   },
   "file_extension": ".py",
   "mimetype": "text/x-python",
   "name": "python",
   "nbconvert_exporter": "python",
   "pygments_lexer": "ipython3",
   "version": "3.9.2"
  },
  "orig_nbformat": 2,
  "kernelspec": {
   "name": "python392jvsc74a57bd0aee8b7b246df8f9039afb4144a1f6fd8d2ca17a180786b69acc140d282b71a49",
   "display_name": "Python 3.9.2 64-bit"
  },
  "metadata": {
   "interpreter": {
    "hash": "aee8b7b246df8f9039afb4144a1f6fd8d2ca17a180786b69acc140d282b71a49"
   }
  }
 },
 "nbformat": 4,
 "nbformat_minor": 2,
 "cells": [
  {
   "cell_type": "code",
   "execution_count": 52,
   "metadata": {},
   "outputs": [],
   "source": [
    "#Source : https://geohub.lacity.org/datasets/98aaf5e05fd34daf8aa88b49323197a0_104/explore?location=35.198108%2C-109.643250%2C5.40"
   ]
  },
  {
   "cell_type": "code",
   "execution_count": 1,
   "metadata": {},
   "outputs": [],
   "source": [
    "import json\n",
    "import pandas as pd\n",
    "import matplotlib.pyplot as plt\n",
    "import seaborn as sns\n",
    "import numpy as np\n",
    "import base64"
   ]
  },
  {
   "cell_type": "code",
   "execution_count": 2,
   "metadata": {},
   "outputs": [],
   "source": [
    "CSV_FILE = 'hotspots'"
   ]
  },
  {
   "cell_type": "code",
   "execution_count": 3,
   "metadata": {},
   "outputs": [],
   "source": [
    "with open('dataRaw/'+ CSV_FILE +'.csv') as f:\n",
    "    df=pd.read_csv(f, delimiter=',')"
   ]
  },
  {
   "cell_type": "code",
   "execution_count": 65,
   "metadata": {},
   "outputs": [
    {
     "output_type": "error",
     "ename": "AttributeError",
     "evalue": "'DataFrame' object has no attribute 'dis_status'",
     "traceback": [
      "\u001b[0;31m---------------------------------------------------------------------------\u001b[0m",
      "\u001b[0;31mAttributeError\u001b[0m                            Traceback (most recent call last)",
      "\u001b[0;32m<ipython-input-65-2010453e9a75>\u001b[0m in \u001b[0;36m<module>\u001b[0;34m\u001b[0m\n\u001b[1;32m      2\u001b[0m \u001b[0mdf\u001b[0m\u001b[0;34m[\u001b[0m\u001b[0;34m'addrln2'\u001b[0m\u001b[0;34m]\u001b[0m \u001b[0;34m=\u001b[0m \u001b[0mdf\u001b[0m\u001b[0;34m[\u001b[0m\u001b[0;34m'addrln2'\u001b[0m\u001b[0;34m]\u001b[0m\u001b[0;34m.\u001b[0m\u001b[0mfillna\u001b[0m\u001b[0;34m(\u001b[0m\u001b[0;34m''\u001b[0m\u001b[0;34m)\u001b[0m\u001b[0;34m\u001b[0m\u001b[0;34m\u001b[0m\u001b[0m\n\u001b[1;32m      3\u001b[0m \u001b[0;31m# Remove non active wifi routers\u001b[0m\u001b[0;34m\u001b[0m\u001b[0;34m\u001b[0m\u001b[0;34m\u001b[0m\u001b[0m\n\u001b[0;32m----> 4\u001b[0;31m \u001b[0mdf\u001b[0m \u001b[0;34m=\u001b[0m \u001b[0mdf\u001b[0m\u001b[0;34m[\u001b[0m\u001b[0mdf\u001b[0m\u001b[0;34m.\u001b[0m\u001b[0mdis_status\u001b[0m \u001b[0;34m!=\u001b[0m \u001b[0;34m'Not Active'\u001b[0m\u001b[0;34m]\u001b[0m\u001b[0;34m\u001b[0m\u001b[0;34m\u001b[0m\u001b[0m\n\u001b[0m\u001b[1;32m      5\u001b[0m \u001b[0;34m\u001b[0m\u001b[0m\n\u001b[1;32m      6\u001b[0m \u001b[0;31m# Drop dis_status that are no longer required.\u001b[0m\u001b[0;34m\u001b[0m\u001b[0;34m\u001b[0m\u001b[0;34m\u001b[0m\u001b[0m\n",
      "\u001b[0;32m/usr/local/lib/python3.9/site-packages/pandas/core/generic.py\u001b[0m in \u001b[0;36m__getattr__\u001b[0;34m(self, name)\u001b[0m\n\u001b[1;32m   5463\u001b[0m             \u001b[0;32mif\u001b[0m \u001b[0mself\u001b[0m\u001b[0;34m.\u001b[0m\u001b[0m_info_axis\u001b[0m\u001b[0;34m.\u001b[0m\u001b[0m_can_hold_identifiers_and_holds_name\u001b[0m\u001b[0;34m(\u001b[0m\u001b[0mname\u001b[0m\u001b[0;34m)\u001b[0m\u001b[0;34m:\u001b[0m\u001b[0;34m\u001b[0m\u001b[0;34m\u001b[0m\u001b[0m\n\u001b[1;32m   5464\u001b[0m                 \u001b[0;32mreturn\u001b[0m \u001b[0mself\u001b[0m\u001b[0;34m[\u001b[0m\u001b[0mname\u001b[0m\u001b[0;34m]\u001b[0m\u001b[0;34m\u001b[0m\u001b[0;34m\u001b[0m\u001b[0m\n\u001b[0;32m-> 5465\u001b[0;31m             \u001b[0;32mreturn\u001b[0m \u001b[0mobject\u001b[0m\u001b[0;34m.\u001b[0m\u001b[0m__getattribute__\u001b[0m\u001b[0;34m(\u001b[0m\u001b[0mself\u001b[0m\u001b[0;34m,\u001b[0m \u001b[0mname\u001b[0m\u001b[0;34m)\u001b[0m\u001b[0;34m\u001b[0m\u001b[0;34m\u001b[0m\u001b[0m\n\u001b[0m\u001b[1;32m   5466\u001b[0m \u001b[0;34m\u001b[0m\u001b[0m\n\u001b[1;32m   5467\u001b[0m     \u001b[0;32mdef\u001b[0m \u001b[0m__setattr__\u001b[0m\u001b[0;34m(\u001b[0m\u001b[0mself\u001b[0m\u001b[0;34m,\u001b[0m \u001b[0mname\u001b[0m\u001b[0;34m:\u001b[0m \u001b[0mstr\u001b[0m\u001b[0;34m,\u001b[0m \u001b[0mvalue\u001b[0m\u001b[0;34m)\u001b[0m \u001b[0;34m->\u001b[0m \u001b[0;32mNone\u001b[0m\u001b[0;34m:\u001b[0m\u001b[0;34m\u001b[0m\u001b[0;34m\u001b[0m\u001b[0m\n",
      "\u001b[0;31mAttributeError\u001b[0m: 'DataFrame' object has no attribute 'dis_status'"
     ]
    }
   ],
   "source": [
    "# Replaces NaN from addrLn2 with blank values\n",
    "df['addrln2'] = df['addrln2'].fillna('')\n",
    "# Remove non active wifi routers\n",
    "df = df[df.dis_status != 'Not Active']\n",
    "\n",
    "# Drop dis_status that are no longer required. \n",
    "df = df.drop(columns=['dis_status', 'X', 'Y', 'POINT_X', 'POINT_Y'])"
   ]
  },
  {
   "cell_type": "code",
   "execution_count": 57,
   "metadata": {},
   "outputs": [
    {
     "output_type": "execute_result",
     "data": {
      "text/plain": [
       "<bound method DataFrame.count of      OBJECTID                                 org_name  \\\n",
       "0        1836                             www.lbpl.org   \n",
       "1        2077  LA City Department Recreation and Parks   \n",
       "2        2184                             www.lbpl.org   \n",
       "3        2209                             www.lbpl.org   \n",
       "4        2211                             www.lbpl.org   \n",
       "..        ...                                      ...   \n",
       "209     65026  LA City Department Recreation and Parks   \n",
       "210     65030  LA City Department Recreation and Parks   \n",
       "211     65035  LA City Department Recreation and Parks   \n",
       "212     65314                                      NaN   \n",
       "213     65677                                      NaN   \n",
       "\n",
       "                                                  Name  \\\n",
       "0                            Long Beach Public Library   \n",
       "1           Jim Gilliam Recreational and Senior Center   \n",
       "2    Long Beach Public Library - North Neighborhood...   \n",
       "3    Long Beach Public Library - Mark Twain Neighbo...   \n",
       "4    Long Beach Public Library - El Dorado Neighbor...   \n",
       "..                                                 ...   \n",
       "209               Griffith Park Adult Community Center   \n",
       "210                             Yucca Community Center   \n",
       "211                Mar Vista Gardens Recreation Center   \n",
       "212     Los Angeles Public Library - Silverlake Branch   \n",
       "213                LA County Library - Topanga Library   \n",
       "\n",
       "                       addrln1 addrln2         city state  \\\n",
       "0             101 Pacific Ave.           Long Beach    CA   \n",
       "1         4000 S. La Brea Ave.          Los Angeles    CA   \n",
       "2             5571 Orange Ave.           Long Beach    CA   \n",
       "3          1401 E. Anaheim St.           Long Beach    CA   \n",
       "4          2900 Studebaker Rd.           Long Beach    CA   \n",
       "..                         ...     ...          ...   ...   \n",
       "209          3203 Riverside Dr          Los Angeles    CA   \n",
       "210              6671 Yucca St          Los Angeles    CA   \n",
       "211         4901 Marionwood Dr          Culver City    CA   \n",
       "212         2411 Glendale Blvd          Los Angeles    CA   \n",
       "213  122 N Topanga Canyon Blvd              Topanga    CA   \n",
       "\n",
       "                                              url    zip  \\\n",
       "0                                    www.lbpl.org  90822   \n",
       "1                         www.laparks.org/dos.htm  90008   \n",
       "2                                    www.lbpl.org  90805   \n",
       "3                                    www.lbpl.org  90813   \n",
       "4                                    www.lbpl.org  90815   \n",
       "..                                            ...    ...   \n",
       "209         www.laparks.org/dos/senior/senior.htm  90027   \n",
       "210                       www.laparks.org/dos.htm  90028   \n",
       "211                       www.laparks.org/dos.htm  90230   \n",
       "212                                  www.lapl.org  90039   \n",
       "213  https://lacountylibrary.org/topanga-library/  90290   \n",
       "\n",
       "                                       link   latitude   longitude  \n",
       "0     http://egis3.lacounty.gov/lms/?p=1992  33.767714 -118.194311  \n",
       "1     http://egis3.lacounty.gov/lms/?p=2210  34.013350 -118.354735  \n",
       "2     http://egis3.lacounty.gov/lms/?p=2473  33.857588 -118.177563  \n",
       "3     http://egis3.lacounty.gov/lms/?p=2492  33.782838 -118.173990  \n",
       "4     http://egis3.lacounty.gov/lms/?p=2493  33.806410 -118.095246  \n",
       "..                                      ...        ...         ...  \n",
       "209  http://egis3.lacounty.gov/lms/?p=71550  34.114343 -118.269332  \n",
       "210  http://egis3.lacounty.gov/lms/?p=71552  34.103326 -118.335492  \n",
       "211  http://egis3.lacounty.gov/lms/?p=71554  33.993511 -118.410922  \n",
       "212  http://egis3.lacounty.gov/lms/?p=71665  34.100494 -118.259406  \n",
       "213  http://egis3.lacounty.gov/lms/?p=71876  34.090119 -118.604045  \n",
       "\n",
       "[213 rows x 12 columns]>"
      ]
     },
     "metadata": {},
     "execution_count": 57
    }
   ],
   "source": []
  },
  {
   "cell_type": "code",
   "execution_count": 58,
   "metadata": {},
   "outputs": [],
   "source": [
    "df.to_csv('dataClean/'+ CSV_FILE +'.csv', index=False)"
   ]
  }
 ]
}