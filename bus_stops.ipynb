{
 "metadata": {
  "language_info": {
   "codemirror_mode": {
    "name": "ipython",
    "version": 3
   },
   "file_extension": ".py",
   "mimetype": "text/x-python",
   "name": "python",
   "nbconvert_exporter": "python",
   "pygments_lexer": "ipython3",
   "version": "3.9.2"
  },
  "orig_nbformat": 2,
  "kernelspec": {
   "name": "python392jvsc74a57bd0aee8b7b246df8f9039afb4144a1f6fd8d2ca17a180786b69acc140d282b71a49",
   "display_name": "Python 3.9.2 64-bit"
  },
  "metadata": {
   "interpreter": {
    "hash": "aee8b7b246df8f9039afb4144a1f6fd8d2ca17a180786b69acc140d282b71a49"
   }
  }
 },
 "nbformat": 4,
 "nbformat_minor": 2,
 "cells": [
  {
   "cell_type": "code",
   "execution_count": 9,
   "metadata": {},
   "outputs": [],
   "source": [
    "#Source : https://geohub.lacity.org/datasets/bus-stop-benches/"
   ]
  },
  {
   "cell_type": "code",
   "execution_count": 25,
   "metadata": {},
   "outputs": [],
   "source": [
    "import json\n",
    "import pandas as pd\n",
    "import matplotlib.pyplot as plt\n",
    "import seaborn as sns\n",
    "import numpy as np\n",
    "import base64"
   ]
  },
  {
   "cell_type": "code",
   "execution_count": 26,
   "metadata": {},
   "outputs": [],
   "source": [
    "CSV_FILE = 'bus_stops'"
   ]
  },
  {
   "cell_type": "code",
   "execution_count": 27,
   "metadata": {},
   "outputs": [],
   "source": [
    "with open('dataRaw/'+ CSV_FILE +'.csv') as f:\n",
    "    df=pd.read_csv(f, delimiter=',')"
   ]
  },
  {
   "cell_type": "code",
   "execution_count": 28,
   "metadata": {},
   "outputs": [
    {
     "output_type": "execute_result",
     "data": {
      "text/plain": [
       "   OBJECTID  FID2   NUMBER  LATITUDE  LONGITUDE  \\\n",
       "0         1   663  LA-0664  34.19462 -118.58843   \n",
       "1         2   681  LA-0682  34.20065 -118.62340   \n",
       "2         3   682  LA-0683  34.20065 -118.62340   \n",
       "3         4   711  LA-0712  34.15238 -118.60487   \n",
       "4         5   771  LA-0772  34.21597 -118.53582   \n",
       "5         6   774  LA-0775  34.19457 -118.53592   \n",
       "6         7   784  LA-0785  34.22005 -118.58010   \n",
       "7         8  1505  LA-1506  34.15804 -118.37023   \n",
       "8         9  1542  LA-1543  34.06147 -118.31958   \n",
       "9        10  1548  LA-1549  34.06147 -118.31958   \n",
       "\n",
       "                              SITEATS         CITY_SITE FACING   AREA  \\\n",
       "0        NB  De Soto  FS  Vanowen -NE  L.A. Valley West  South  CD-03   \n",
       "1  SB  Fallbrook  FS  Sherman Way -SW  L.A. Valley West   East  CD-03   \n",
       "2  SB  Fallbrook  FS  Sherman Way -SW  L.A. Valley West   East  CD-03   \n",
       "3   EB  Mulholland D  NS  Topanga -SW  L.A. Valley West   East  CD-03   \n",
       "4   NB  Reseda Blvd FS  Strathern -NE  L.A. Valley West  South  CD-03   \n",
       "5     NB  Reseda Blvd FS  Vanowen -NE  L.A. Valley West  South  CD-03   \n",
       "6           EB  Roscoe  NS  Mason -SW  L.A. Valley West   East  CD-03   \n",
       "7     NB  Vineland  FS  Camarillo -NE  L.A. Valley East  South  CD-04   \n",
       "8      EB  Wilshire  FS  Dunsmuir -SE      L.A. Central   West  CD-04   \n",
       "9       EB  Wilshire  NS  La Brea -SW      L.A. Central   East  CD-04   \n",
       "\n",
       "               ADVERTISER  \n",
       "0                MOM L.A.  \n",
       "1             Jerry Gooze  \n",
       "2             Jerry Gooze  \n",
       "3                MOM L.A.  \n",
       "4                MOM L.A.  \n",
       "5                MOM L.A.  \n",
       "6           Sean Sullivan  \n",
       "7                MOM L.A.  \n",
       "8                MOM L.A.  \n",
       "9  Diamond Foam & Fabrics  "
      ],
      "text/html": "<div>\n<style scoped>\n    .dataframe tbody tr th:only-of-type {\n        vertical-align: middle;\n    }\n\n    .dataframe tbody tr th {\n        vertical-align: top;\n    }\n\n    .dataframe thead th {\n        text-align: right;\n    }\n</style>\n<table border=\"1\" class=\"dataframe\">\n  <thead>\n    <tr style=\"text-align: right;\">\n      <th></th>\n      <th>OBJECTID</th>\n      <th>FID2</th>\n      <th>NUMBER</th>\n      <th>LATITUDE</th>\n      <th>LONGITUDE</th>\n      <th>SITEATS</th>\n      <th>CITY_SITE</th>\n      <th>FACING</th>\n      <th>AREA</th>\n      <th>ADVERTISER</th>\n    </tr>\n  </thead>\n  <tbody>\n    <tr>\n      <th>0</th>\n      <td>1</td>\n      <td>663</td>\n      <td>LA-0664</td>\n      <td>34.19462</td>\n      <td>-118.58843</td>\n      <td>NB  De Soto  FS  Vanowen -NE</td>\n      <td>L.A. Valley West</td>\n      <td>South</td>\n      <td>CD-03</td>\n      <td>MOM L.A.</td>\n    </tr>\n    <tr>\n      <th>1</th>\n      <td>2</td>\n      <td>681</td>\n      <td>LA-0682</td>\n      <td>34.20065</td>\n      <td>-118.62340</td>\n      <td>SB  Fallbrook  FS  Sherman Way -SW</td>\n      <td>L.A. Valley West</td>\n      <td>East</td>\n      <td>CD-03</td>\n      <td>Jerry Gooze</td>\n    </tr>\n    <tr>\n      <th>2</th>\n      <td>3</td>\n      <td>682</td>\n      <td>LA-0683</td>\n      <td>34.20065</td>\n      <td>-118.62340</td>\n      <td>SB  Fallbrook  FS  Sherman Way -SW</td>\n      <td>L.A. Valley West</td>\n      <td>East</td>\n      <td>CD-03</td>\n      <td>Jerry Gooze</td>\n    </tr>\n    <tr>\n      <th>3</th>\n      <td>4</td>\n      <td>711</td>\n      <td>LA-0712</td>\n      <td>34.15238</td>\n      <td>-118.60487</td>\n      <td>EB  Mulholland D  NS  Topanga -SW</td>\n      <td>L.A. Valley West</td>\n      <td>East</td>\n      <td>CD-03</td>\n      <td>MOM L.A.</td>\n    </tr>\n    <tr>\n      <th>4</th>\n      <td>5</td>\n      <td>771</td>\n      <td>LA-0772</td>\n      <td>34.21597</td>\n      <td>-118.53582</td>\n      <td>NB  Reseda Blvd FS  Strathern -NE</td>\n      <td>L.A. Valley West</td>\n      <td>South</td>\n      <td>CD-03</td>\n      <td>MOM L.A.</td>\n    </tr>\n    <tr>\n      <th>5</th>\n      <td>6</td>\n      <td>774</td>\n      <td>LA-0775</td>\n      <td>34.19457</td>\n      <td>-118.53592</td>\n      <td>NB  Reseda Blvd FS  Vanowen -NE</td>\n      <td>L.A. Valley West</td>\n      <td>South</td>\n      <td>CD-03</td>\n      <td>MOM L.A.</td>\n    </tr>\n    <tr>\n      <th>6</th>\n      <td>7</td>\n      <td>784</td>\n      <td>LA-0785</td>\n      <td>34.22005</td>\n      <td>-118.58010</td>\n      <td>EB  Roscoe  NS  Mason -SW</td>\n      <td>L.A. Valley West</td>\n      <td>East</td>\n      <td>CD-03</td>\n      <td>Sean Sullivan</td>\n    </tr>\n    <tr>\n      <th>7</th>\n      <td>8</td>\n      <td>1505</td>\n      <td>LA-1506</td>\n      <td>34.15804</td>\n      <td>-118.37023</td>\n      <td>NB  Vineland  FS  Camarillo -NE</td>\n      <td>L.A. Valley East</td>\n      <td>South</td>\n      <td>CD-04</td>\n      <td>MOM L.A.</td>\n    </tr>\n    <tr>\n      <th>8</th>\n      <td>9</td>\n      <td>1542</td>\n      <td>LA-1543</td>\n      <td>34.06147</td>\n      <td>-118.31958</td>\n      <td>EB  Wilshire  FS  Dunsmuir -SE</td>\n      <td>L.A. Central</td>\n      <td>West</td>\n      <td>CD-04</td>\n      <td>MOM L.A.</td>\n    </tr>\n    <tr>\n      <th>9</th>\n      <td>10</td>\n      <td>1548</td>\n      <td>LA-1549</td>\n      <td>34.06147</td>\n      <td>-118.31958</td>\n      <td>EB  Wilshire  NS  La Brea -SW</td>\n      <td>L.A. Central</td>\n      <td>East</td>\n      <td>CD-04</td>\n      <td>Diamond Foam &amp; Fabrics</td>\n    </tr>\n  </tbody>\n</table>\n</div>"
     },
     "metadata": {},
     "execution_count": 28
    }
   ],
   "source": [
    "# REMOVE COLUMNS\n",
    "# BETTER DOCUMENTATION ON TYPES OF BUS STOPS is needed\n",
    "df = df.drop(columns=['X', 'Y', 'TOOLTIP', 'MEDIA_TYPE', 'UNIT_TYPE'])\n",
    "df.head(10)"
   ]
  },
  {
   "cell_type": "code",
   "execution_count": 29,
   "metadata": {},
   "outputs": [],
   "source": [
    "df.to_csv('dataClean/'+ CSV_FILE +'.csv', index=False)"
   ]
  }
 ]
}